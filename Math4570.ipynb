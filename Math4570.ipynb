{
  "nbformat": 4,
  "nbformat_minor": 0,
  "metadata": {
    "colab": {
      "provenance": [],
      "include_colab_link": true
    },
    "kernelspec": {
      "name": "python3",
      "display_name": "Python 3"
    },
    "language_info": {
      "name": "python"
    }
  },
  "cells": [
    {
      "cell_type": "markdown",
      "metadata": {
        "id": "view-in-github",
        "colab_type": "text"
      },
      "source": [
        "<a href=\"https://colab.research.google.com/github/eeks196/MATH4570-Group-Project/blob/main/Math4570.ipynb\" target=\"_parent\"><img src=\"https://colab.research.google.com/assets/colab-badge.svg\" alt=\"Open In Colab\"/></a>"
      ]
    },
    {
      "cell_type": "code",
      "execution_count": null,
      "metadata": {
        "id": "5YUn974aHliD"
      },
      "outputs": [],
      "source": [
        "import pandas as pd\n",
        "import numpy as np\n",
        "import matplotlib.pyplot as plt\n",
        "import seaborn as sns\n",
        "from statsmodels.formula.api import ols\n",
        "from sklearn.linear_model import LinearRegression"
      ]
    },
    {
      "cell_type": "code",
      "source": [
        "crispr_gene_effect = pd.read_csv('CRISPRGeneEffect.csv')\n",
        "CCLE_gene_cn = pd.read_csv('/content/CCLE_gene_cn.csv')"
      ],
      "metadata": {
        "id": "JRtsurOhHyWe"
      },
      "execution_count": null,
      "outputs": []
    },
    {
      "cell_type": "code",
      "source": [
        "cripsr_gene_effect = crispr_gene_effect.dropna()\n",
        "crispr_gene_effect.isnull().mean()"
      ],
      "metadata": {
        "id": "h7ZMEGiIL_04",
        "colab": {
          "base_uri": "https://localhost:8080/"
        },
        "outputId": "a77cb03b-467c-4fe1-f69a-f7ddef07e56f"
      },
      "execution_count": null,
      "outputs": [
        {
          "output_type": "execute_result",
          "data": {
            "text/plain": [
              "Unnamed: 0         0.0\n",
              "A1BG (1)           0.0\n",
              "A1CF (29974)       0.0\n",
              "A2M (2)            0.0\n",
              "A2ML1 (144568)     0.0\n",
              "                  ... \n",
              "ZYG11A (440590)    0.0\n",
              "ZYG11B (79699)     0.0\n",
              "ZYX (7791)         0.0\n",
              "ZZEF1 (23140)      0.0\n",
              "ZZZ3 (26009)       0.0\n",
              "Length: 17454, dtype: float64"
            ]
          },
          "metadata": {},
          "execution_count": 16
        }
      ]
    },
    {
      "cell_type": "code",
      "source": [
        "CCLE_gene_cn.isnull().mean()\n",
        "CCLE_gene_cn = CCLE_gene_cn.dropna()"
      ],
      "metadata": {
        "id": "ETFba3c2hL5e"
      },
      "execution_count": null,
      "outputs": []
    }
  ]
}